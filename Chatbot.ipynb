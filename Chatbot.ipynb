{
  "cells": [
    {
      "cell_type": "markdown",
      "metadata": {
        "id": "view-in-github",
        "colab_type": "text"
      },
      "source": [
        "<a href=\"https://colab.research.google.com/github/Aryaa6603/PolicyBot/blob/main/Chatbot.ipynb\" target=\"_parent\"><img src=\"https://colab.research.google.com/assets/colab-badge.svg\" alt=\"Open In Colab\"/></a>"
      ]
    },
    {
      "cell_type": "markdown",
      "metadata": {
        "id": "nABgR2zv6vSk"
      },
      "source": [
        "# **PolicyBot**, your one step to easing policies and rules enforcement!"
      ]
    },
    {
      "cell_type": "markdown",
      "source": [
        "Navigating complex company rules and policies can be daunting for employees, leading to misunderstandings and compliance issues. Traditional methods, like manuals, often fall short in engaging and promptly informing employees.\n",
        "\n"
      ],
      "metadata": {
        "id": "UKLDC_FED_PT"
      }
    },
    {
      "cell_type": "markdown",
      "source": [
        "**Project Description:**\n",
        "\n",
        "In response to the challenge of effectively communicating company rules and policies to employees, I propose building a specialized Chatbot. This Chatbot will provide quick and accurate information about company regulations, aiming to address the following:\n",
        "\n",
        "My goal is to create a Chatbot that:\n",
        "\n",
        "1. **Ensures Instant Responses:** Offers real-time answers to employee queries on company rules.\n",
        "\n",
        "2. **Enhances Accessibility:** Makes information easily accessible to all employees regardless of their role.\n",
        "\n",
        "3. **Boosts Engagement:** Creates a user-friendly interface that encourages employees to stay informed.\n",
        "\n",
        "4. **Allows Customization:** Tailors responses to specific company policies for accuracy.\n",
        "\n",
        "5. **Enables Integration:** Seamlessly integrates into existing communication channels within the company.\n",
        "\n",
        "By developing this specialized Chatbot, I aim to streamline communication, foster compliance, and empower employees with the knowledge needed to navigate corporate regulations effectively. The project aligns with my broader objective of enhancing organizational transparency and creating a more informed workforce."
      ],
      "metadata": {
        "id": "GVxM9Ll7EPSt"
      }
    },
    {
      "cell_type": "markdown",
      "metadata": {
        "id": "LDUnXalM6vSm"
      },
      "source": [
        "## Import necessary libraries"
      ]
    },
    {
      "cell_type": "code",
      "execution_count": 1,
      "metadata": {
        "id": "gKhBfKU46vSm"
      },
      "outputs": [],
      "source": [
        "import io\n",
        "import random\n",
        "import string # to process standard python strings\n",
        "import warnings\n",
        "import numpy as np\n",
        "from sklearn.feature_extraction.text import TfidfVectorizer\n",
        "from sklearn.metrics.pairwise import cosine_similarity\n",
        "import warnings\n",
        "warnings.filterwarnings('ignore')"
      ]
    },
    {
      "cell_type": "markdown",
      "metadata": {
        "id": "2Yh6oV906vSn"
      },
      "source": [
        "## Downloading and installing NLTK\n",
        "NLTK(Natural Language Toolkit) is a leading platform for building Python programs to work with human language data. It provides easy-to-use interfaces to over 50 corpora and lexical resources such as WordNet, along with a suite of text processing libraries for classification, tokenization, stemming, tagging, parsing, and semantic reasoning, wrappers for industrial-strength NLP libraries.\n",
        "\n",
        "[Natural Language Processing with Python](http://www.nltk.org/book/) provides a practical introduction to programming for language processing.\n"
      ]
    },
    {
      "cell_type": "code",
      "execution_count": 2,
      "metadata": {
        "colab": {
          "base_uri": "https://localhost:8080/"
        },
        "id": "E5Lx7b6e6vSn",
        "outputId": "0723616f-6b1e-4502-cfd4-60f1518af360"
      },
      "outputs": [
        {
          "output_type": "stream",
          "name": "stdout",
          "text": [
            "Requirement already satisfied: nltk in /usr/local/lib/python3.10/dist-packages (3.8.1)\n",
            "Requirement already satisfied: click in /usr/local/lib/python3.10/dist-packages (from nltk) (8.1.7)\n",
            "Requirement already satisfied: joblib in /usr/local/lib/python3.10/dist-packages (from nltk) (1.3.2)\n",
            "Requirement already satisfied: regex>=2021.8.3 in /usr/local/lib/python3.10/dist-packages (from nltk) (2023.6.3)\n",
            "Requirement already satisfied: tqdm in /usr/local/lib/python3.10/dist-packages (from nltk) (4.66.1)\n"
          ]
        }
      ],
      "source": [
        "pip install nltk"
      ]
    },
    {
      "cell_type": "markdown",
      "metadata": {
        "id": "No_QkqGh6vSn"
      },
      "source": [
        "### Installing NLTK Packages\n",
        "\n",
        "\n"
      ]
    },
    {
      "cell_type": "code",
      "execution_count": 3,
      "metadata": {
        "colab": {
          "base_uri": "https://localhost:8080/"
        },
        "id": "kGsk_vwI6vSn",
        "outputId": "7f5ccb21-53c3-4ec2-8a9c-43fed31ad927"
      },
      "outputs": [
        {
          "output_type": "execute_result",
          "data": {
            "text/plain": [
              "True"
            ]
          },
          "metadata": {},
          "execution_count": 3
        }
      ],
      "source": [
        "import nltk\n",
        "from nltk.stem import WordNetLemmatizer\n",
        "nltk.download('popular', quiet=True) # for downloading packages\n",
        "#nltk.download('punkt') # first-time use only\n",
        "#nltk.download('wordnet') # first-time use only"
      ]
    },
    {
      "cell_type": "markdown",
      "metadata": {
        "id": "H4CbiFdX6vSo"
      },
      "source": [
        "## Reading in the corpus\n",
        "\n",
        "For my example, I will be using the dataset of sample policies that I created as my corpus. Downlaod the file named ‘chatbot.txt’. However, you can use any corpus of your choice."
      ]
    },
    {
      "cell_type": "code",
      "execution_count": 4,
      "metadata": {
        "id": "8VJNjDb16vSx"
      },
      "outputs": [],
      "source": [
        "f=open('/content/chatbot.txt','r',errors = 'ignore')\n",
        "raw=f.read()\n",
        "raw = raw.lower()# converts to lowercase"
      ]
    },
    {
      "cell_type": "markdown",
      "metadata": {
        "id": "x9TG66ib6vSx"
      },
      "source": [
        "The primary challenge with text data is its format in strings, which is not suitable for machine learning algorithms. To prepare it for NLP projects, several basic text pre-processing steps are essential:\n",
        "\n",
        "1. **Case Normalization:** Convert the entire text to either uppercase or lowercase to ensure consistent treatment of words regardless of their cases.\n",
        "\n",
        "2. **Tokenization:** Tokenization involves converting text strings into lists of tokens, such as words. Sentence tokenizer identifies sentences, while word tokenizer identifies words within strings. NLTK provides a pre-trained Punkt tokenizer for English.\n",
        "\n",
        "3. **Noise Removal:** Eliminate everything that doesn't consist of standard numbers or letters, removing irrelevant characters.\n",
        "\n",
        "4. **Stop Words Removal:** Exclude extremely common words that contribute little value in matching user needs. These words, known as stop words, are removed from the vocabulary.\n",
        "\n",
        "5. **Stemming:** Reduce inflected or derived words to their base or root form. For example, stemming \"Stems,\" \"Stemming,\" \"Stemmed,\" and \"Stemtization\" results in the single word \"stem.\"\n",
        "\n",
        "6. **Lemmatization:** A variation of stemming, lemmatization reduces words to their base form, considering actual words or lemmas. For instance, \"run\" serves as the base form for words like \"running\" or \"ran,\" and \"better\" and \"good\" are in the same lemma, treating them as identical.\n"
      ]
    },
    {
      "cell_type": "markdown",
      "metadata": {
        "id": "kRthH4iB6vSx"
      },
      "source": [
        "## Tokenisation"
      ]
    },
    {
      "cell_type": "code",
      "execution_count": 5,
      "metadata": {
        "id": "FCKblyLp6vSx"
      },
      "outputs": [],
      "source": [
        "sent_tokens = nltk.sent_tokenize(raw)# converts to list of sentences\n",
        "word_tokens = nltk.word_tokenize(raw)# converts to list of words"
      ]
    },
    {
      "cell_type": "markdown",
      "metadata": {
        "id": "koMSuXXY6vSx"
      },
      "source": [
        "## Preprocessing\n",
        "\n",
        "I have now defined a function called LemTokens which will take as input the tokens and return normalized tokens."
      ]
    },
    {
      "cell_type": "code",
      "execution_count": 6,
      "metadata": {
        "id": "y8Tye2GY6vSx"
      },
      "outputs": [],
      "source": [
        "lemmer = nltk.stem.WordNetLemmatizer()\n",
        "#WordNet is a semantically-oriented dictionary of English included in NLTK.\n",
        "def LemTokens(tokens):\n",
        "    return [lemmer.lemmatize(token) for token in tokens]\n",
        "remove_punct_dict = dict((ord(punct), None) for punct in string.punctuation)\n",
        "\n",
        "def LemNormalize(text):\n",
        "    return LemTokens(nltk.word_tokenize(text.lower().translate(remove_punct_dict)))"
      ]
    },
    {
      "cell_type": "markdown",
      "metadata": {
        "id": "0iqLVc4g6vSx"
      },
      "source": [
        "## Keyword matching\n",
        "\n",
        "Next, I shall define a function for a greeting by the bot i.e if a user’s input is a greeting, the bot shall return a greeting response."
      ]
    },
    {
      "cell_type": "code",
      "execution_count": 7,
      "metadata": {
        "id": "mlhcDmUV6vSx"
      },
      "outputs": [],
      "source": [
        "GREETING_INPUTS = (\"hello\", \"hi\", \"greetings\", \"sup\", \"what's up\",\"hey\",)\n",
        "GREETING_RESPONSES = [\"hi\", \"hey\", \"*nods*\", \"hi there\", \"hello\", \"I am glad! You are talking to me\"]\n",
        "def greeting(sentence):\n",
        "\n",
        "    for word in sentence.split():\n",
        "        if word.lower() in GREETING_INPUTS:\n",
        "            return random.choice(GREETING_RESPONSES)"
      ]
    },
    {
      "cell_type": "markdown",
      "metadata": {
        "id": "fcDsF8Vp6vSx"
      },
      "source": [
        "## Generating Response\n",
        "**Bag of Words:**\n",
        "\n",
        "Following the initial preprocessing stage, the transformation of text into a meaningful array of numbers is crucial. The bag-of-words represents text by capturing the occurrence of words within a document. It comprises two key elements:\n",
        "\n",
        "1. A vocabulary of known words.\n",
        "2. A measure of the presence of known words.\n",
        "\n",
        "The term \"bag\" is used because any information about the order or structure of words is discarded, focusing solely on whether known words occur in the document, not their specific placement.\n",
        "\n",
        "The underlying idea behind the Bag of Words is that documents with similar content are considered similar. It allows us to extract meaning from the document based solely on its content.\n",
        "\n",
        "For example, if our dictionary includes words like {Learning, is, the, not, great}, and we want to vectorize the text \"Learning is great,\" the resulting vector would be (1, 1, 0, 0, 1).\n",
        "\n",
        "**TF-IDF Approach:**\n",
        "\n",
        "The Bag of Words approach has limitations, especially with highly frequent words dominating and potentially giving more weight to longer documents. To address this, we can rescale the frequency of words using Term Frequency-Inverse Document Frequency (TF-IDF). This scoring method considers both the frequency of a word in the current document and how rare the word is across all documents.\n",
        "\n",
        "- Term Frequency (TF): Measures the frequency of a word in the current document.\n",
        "  - TF = (Number of times term t appears in a document)/(Number of terms in the document)\n",
        "\n",
        "- Inverse Document Frequency (IDF): Scores how rare a word is across documents.\n",
        "  - IDF = 1 + log(N/n), where N is the number of documents, and n is the number of documents a term t has appeared in.\n",
        "\n",
        "**Cosine Similarity:**\n",
        "\n",
        "TF-IDF weight is a statistical measure used in information retrieval and text mining to assess a word's importance in a document. Cosine Similarity, calculated using the dot product of two non-zero vectors, is employed to measure the similarity between two documents (d1 and d2).\n",
        "\n",
        "Cosine Similarity (d1, d2) = Dot product(d1, d2) / ||d1|| * ||d2||\n",
        "\n",
        "To generate responses from the chatbot for user input questions, we utilize the concept of document similarity. The response function searches the user's input for known keywords and returns appropriate responses. If no keywords are found, it responds with \"I am sorry! I don’t understand you.\""
      ]
    },
    {
      "cell_type": "markdown",
      "metadata": {
        "id": "PRy8XCqq6vSx"
      },
      "source": [
        "To generate a response from our bot for input questions, the concept of document similarity will be used. I defined a function response which searches the user’s utterance for one or more known keywords and returns one of several possible responses. If it doesn’t find the input matching any of the keywords, it returns a response:” I am sorry! I don’t understand you”"
      ]
    },
    {
      "cell_type": "code",
      "execution_count": 8,
      "metadata": {
        "id": "DRdKIdZS6vSy"
      },
      "outputs": [],
      "source": [
        "def response(user_response):\n",
        "    robo_response=''\n",
        "    sent_tokens.append(user_response)\n",
        "    TfidfVec = TfidfVectorizer(tokenizer=LemNormalize, stop_words='english')\n",
        "    tfidf = TfidfVec.fit_transform(sent_tokens)\n",
        "    vals = cosine_similarity(tfidf[-1], tfidf)\n",
        "    idx=vals.argsort()[0][-2]\n",
        "    flat = vals.flatten()\n",
        "    flat.sort()\n",
        "    req_tfidf = flat[-2]\n",
        "    if(req_tfidf==0):\n",
        "        robo_response=robo_response+\"I am sorry! I don't understand you\"\n",
        "        return robo_response\n",
        "    else:\n",
        "        robo_response = robo_response+sent_tokens[idx]\n",
        "        return robo_response\n",
        "\n"
      ]
    },
    {
      "cell_type": "markdown",
      "metadata": {
        "id": "a5iBVAND6vSy"
      },
      "source": [
        "Finally, I will feed the lines that I want the bot to say while starting and ending a conversation depending upon user’s input."
      ]
    },
    {
      "cell_type": "code",
      "execution_count": 10,
      "metadata": {
        "colab": {
          "base_uri": "https://localhost:8080/"
        },
        "id": "wpzkXfvD6vSy",
        "outputId": "dabe9666-a529-4750-8a80-2973040d0fb3"
      },
      "outputs": [
        {
          "output_type": "stream",
          "name": "stdout",
          "text": [
            "PolicyBot: My name is PolicyBot. I will answer your queries about Chatbots. If you want to exit, type Bye!\n",
            "Can I work remotely?\n",
            "PolicyBot: please ensure that overtime work is pre-approved.\n",
            "Explain the overtime compensation policy.\n",
            "PolicyBot: please ensure that overtime work is pre-approved.\n",
            "How are performance reviews conducted?\n",
            "PolicyBot: performance reviews are conducted annually.\n",
            "Can employees bring personal devices to work\n",
            "PolicyBot: yes, employees are allowed to bring personal devices.\n",
            "What steps should be taken in case of a cybersecurity threat?\n",
            "PolicyBot: immediately report any cybersecurity threats or suspicious activities to the it department.\n",
            "Can employees participate in open-source projects outside of work?\n",
            "PolicyBot: yes, employees are encouraged to contribute to open-source projects.\n",
            "bye\n",
            "PolicyBot: Bye! take care..\n"
          ]
        }
      ],
      "source": [
        "flag=True\n",
        "print(\"PolicyBot: My name is PolicyBot. I will answer your queries about Chatbots. If you want to exit, type Bye!\")\n",
        "while(flag==True):\n",
        "    user_response = input()\n",
        "    user_response=user_response.lower()\n",
        "    if(user_response!='bye'):\n",
        "        if(user_response=='thanks' or user_response=='thank you' ):\n",
        "            flag=False\n",
        "            print(\"PolicyBot: You are welcome..\")\n",
        "        else:\n",
        "            if(greeting(user_response)!=None):\n",
        "                print(\"PolicyBot: \"+greeting(user_response))\n",
        "            else:\n",
        "                print(\"PolicyBot: \",end=\"\")\n",
        "                print(response(user_response))\n",
        "                sent_tokens.remove(user_response)\n",
        "    else:\n",
        "        flag=False\n",
        "        print(\"PolicyBot: Bye! take care..\")"
      ]
    }
  ],
  "metadata": {
    "kernelspec": {
      "display_name": "Python 3",
      "language": "python",
      "name": "python3"
    },
    "language_info": {
      "codemirror_mode": {
        "name": "ipython",
        "version": 3
      },
      "file_extension": ".py",
      "mimetype": "text/x-python",
      "name": "python",
      "nbconvert_exporter": "python",
      "pygments_lexer": "ipython3",
      "version": "3.7.3"
    },
    "colab": {
      "provenance": [],
      "include_colab_link": true
    }
  },
  "nbformat": 4,
  "nbformat_minor": 0
}